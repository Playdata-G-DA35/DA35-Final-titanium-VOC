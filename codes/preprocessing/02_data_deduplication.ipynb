{
 "cells": [
  {
   "cell_type": "markdown",
   "metadata": {},
   "source": [
    "### 리뷰태그 중복값 제거"
   ]
  },
  {
   "cell_type": "code",
   "execution_count": 4,
   "metadata": {},
   "outputs": [],
   "source": [
    "import pandas as pd\n",
    "import ast\n",
    "\n",
    "# CSV 파일 읽기\n",
    "df = pd.read_csv('musinsa_crawling_dataset/musinsa_crawling_concat_dataset.csv')\n",
    "\n",
    "def process_review_tags(tags):\n",
    "    # 문자열 리스트를 실제 리스트로 변환\n",
    "    try:\n",
    "        tag_list = ast.literal_eval(tags)\n",
    "    except (ValueError, SyntaxError):\n",
    "        # 비정상적인 문자열 처리\n",
    "        return tags\n",
    "    #중복 제거\n",
    "    unique_tags = list(set(tag_list))\n",
    "\n",
    "    #정렬\n",
    "    unique_tags.sort()\n",
    "\n",
    "    #리스트를 다시 문자열로 변환\n",
    "    return str(unique_tags)\n",
    "\n",
    "#'리뷰태그' 열의 중복 제거 및 처리\n",
    "df['리뷰태그'] = df['리뷰태그'].apply(process_review_tags)\n",
    "\n",
    "#결과를 새로운 CSV 파일로 저장\n",
    "df.to_csv('musinsa_crawling_dataset\\musinsa_crawling_concat_dataset.csv', index=False)\n"
   ]
  },
  {
   "cell_type": "markdown",
   "metadata": {},
   "source": [
    "### 리뷰 중복 제거"
   ]
  },
  {
   "cell_type": "code",
   "execution_count": 5,
   "metadata": {},
   "outputs": [
    {
     "name": "stderr",
     "output_type": "stream",
     "text": [
      "C:\\Users\\USER\\AppData\\Local\\Temp\\ipykernel_21724\\3109262074.py:14: SettingWithCopyWarning: \n",
      "A value is trying to be set on a copy of a slice from a DataFrame\n",
      "\n",
      "See the caveats in the documentation: https://pandas.pydata.org/pandas-docs/stable/user_guide/indexing.html#returning-a-view-versus-a-copy\n",
      "  df_unique_reviews.drop(['Unnamed: 0'], axis=1, inplace=True)\n"
     ]
    },
    {
     "name": "stdout",
     "output_type": "stream",
     "text": [
      "중복된 리뷰 중 하나만 남기고 나머지 삭제 완료. 인덱스 재정의 및 결과 파일 저장됨.\n"
     ]
    }
   ],
   "source": [
    "import pandas as pd\n",
    "\n",
    "# 데이터프레임 읽기\n",
    "df = pd.read_csv('musinsa_crawling_dataset/musinsa_crawling_concat_dataset.csv')\n",
    "\n",
    "# '리뷰' 컬럼의 값들을 문자열로 변환하고 공백 제거\n",
    "df['리뷰'] = df['리뷰'].astype(str).str.strip()\n",
    "\n",
    "# 중복된 리뷰를 가진 행 중 첫 번째만 남기고 나머지 삭제\n",
    "df_unique_reviews = df.drop_duplicates(subset=['리뷰'], keep='first')\n",
    "\n",
    "# 불필요한 열 삭제\n",
    "if 'Unnamed: 0' in df_unique_reviews.columns:\n",
    "    df_unique_reviews.drop(['Unnamed: 0'], axis=1, inplace=True)\n",
    "\n",
    "# 인덱스 재정의\n",
    "df_unique_reviews.reset_index(drop=True, inplace=True)\n",
    "df_unique_reviews.index += 1  # 인덱스를 1부터 시작하도록 조정\n",
    "\n",
    "# 결과를 CSV 파일로 저장\n",
    "df_unique_reviews.to_csv('musinsa_crawling_dataset/musinsa_crawling_concat_dataset.csv', index_label='index')\n",
    "\n",
    "print(\"중복된 리뷰 중 하나만 남기고 나머지 삭제 완료. 인덱스 재정의 및 결과 파일 저장됨.\")"
   ]
  }
 ],
 "metadata": {
  "kernelspec": {
   "display_name": "env",
   "language": "python",
   "name": "python3"
  },
  "language_info": {
   "codemirror_mode": {
    "name": "ipython",
    "version": 3
   },
   "file_extension": ".py",
   "mimetype": "text/x-python",
   "name": "python",
   "nbconvert_exporter": "python",
   "pygments_lexer": "ipython3",
   "version": "3.11.8"
  }
 },
 "nbformat": 4,
 "nbformat_minor": 2
}
